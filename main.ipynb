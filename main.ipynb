{
 "cells": [
  {
   "cell_type": "markdown",
   "id": "c17ac0ff",
   "metadata": {},
   "source": [
    "## Clio demo"
   ]
  },
  {
   "cell_type": "code",
   "execution_count": 2,
   "id": "953fd249",
   "metadata": {},
   "outputs": [],
   "source": [
    "# Import libraries\n",
    "import os\n",
    "import sys\n",
    "import pandas as pd\n",
    "import json, base64\n",
    "import numpy as np\n",
    "os.environ[\"TOKENIZERS_PARALLELISM\"] = \"false\"\n",
    "\n",
    "# Import project APIs\n",
    "from preprocessing import decode_row_to_turns, xml_transform\n",
    "from facet_extraction import run_facets_on_dataframe, ClaudeClient\n",
    "from clustering import embed_facets, run_kmeans, assign_clusters, summarize_clusters\n",
    "from cluster_naming import name_all_clusters, NamingParams\n",
    "from projector import ProjectorParams, project_and_merge, plot_projection\n",
    "from hierarchizer_demo import HierParams, build_hierarchy"
   ]
  },
  {
   "cell_type": "markdown",
   "id": "606e8a3d",
   "metadata": {},
   "source": [
    "---\n",
    "\n",
    "### 1. Data Preprocessing\n",
    "\n",
    "Data flow: BASE64 → decoded JSON → Python turns list → XML → Stored in chats_xml.csv"
   ]
  },
  {
   "cell_type": "code",
   "execution_count": 5,
   "id": "ee9cbf36",
   "metadata": {},
   "outputs": [
    {
     "data": {
      "text/html": [
       "<div>\n",
       "<style scoped>\n",
       "    .dataframe tbody tr th:only-of-type {\n",
       "        vertical-align: middle;\n",
       "    }\n",
       "\n",
       "    .dataframe tbody tr th {\n",
       "        vertical-align: top;\n",
       "    }\n",
       "\n",
       "    .dataframe thead th {\n",
       "        text-align: right;\n",
       "    }\n",
       "</style>\n",
       "<table border=\"1\" class=\"dataframe\">\n",
       "  <thead>\n",
       "    <tr style=\"text-align: right;\">\n",
       "      <th></th>\n",
       "      <th>id</th>\n",
       "      <th>created_dttm</th>\n",
       "      <th>title</th>\n",
       "      <th>tags</th>\n",
       "      <th>encoded_content</th>\n",
       "    </tr>\n",
       "  </thead>\n",
       "  <tbody>\n",
       "    <tr>\n",
       "      <th>0</th>\n",
       "      <td>bf7a26d1-c317-4d9b-a709-6e6593c5914c</td>\n",
       "      <td>2025-10-09T04:38</td>\n",
       "      <td>회의 일정 조정</td>\n",
       "      <td>event_planning-arts</td>\n",
       "      <td>eyJ0dXJucyI6IFt7InJvbGUiOiAidXNlciIsICJ0ZXh0Ij...</td>\n",
       "    </tr>\n",
       "    <tr>\n",
       "      <th>1</th>\n",
       "      <td>d44033ab-e35d-4fb5-98b8-b03ceadf7810</td>\n",
       "      <td>2025-10-14T08:10</td>\n",
       "      <td>Holiday Party Planning</td>\n",
       "      <td>health-social_services-communication</td>\n",
       "      <td>eyJ0dXJucyI6IFt7InJvbGUiOiAidXNlciIsICJ0ZXh0Ij...</td>\n",
       "    </tr>\n",
       "    <tr>\n",
       "      <th>2</th>\n",
       "      <td>918bca10-eabb-4cf7-9cba-6f1890d1929f</td>\n",
       "      <td>2025-10-02T05:50</td>\n",
       "      <td>Bug Reproduction Steps</td>\n",
       "      <td>operations-staffing</td>\n",
       "      <td>eyJ0dXJucyI6IFt7InJvbGUiOiAidXNlciIsICJ0ZXh0Ij...</td>\n",
       "    </tr>\n",
       "    <tr>\n",
       "      <th>3</th>\n",
       "      <td>4562ae6e-cdad-4a66-bcb6-9a2d4bfc9f7b</td>\n",
       "      <td>2025-10-03T12:50</td>\n",
       "      <td>Coverage Schedule Swap</td>\n",
       "      <td>operations-staffing</td>\n",
       "      <td>eyJ0dXJucyI6IFt7InJvbGUiOiAidXNlciIsICJ0ZXh0Ij...</td>\n",
       "    </tr>\n",
       "    <tr>\n",
       "      <th>4</th>\n",
       "      <td>3a4d9586-7eb4-47d5-b230-03863570d590</td>\n",
       "      <td>2025-10-06T18:02</td>\n",
       "      <td>DAU Weekly Report</td>\n",
       "      <td>hr-people_ops</td>\n",
       "      <td>eyJ0dXJucyI6IFt7InJvbGUiOiAidXNlciIsICJ0ZXh0Ij...</td>\n",
       "    </tr>\n",
       "  </tbody>\n",
       "</table>\n",
       "</div>"
      ],
      "text/plain": [
       "                                     id      created_dttm  \\\n",
       "0  bf7a26d1-c317-4d9b-a709-6e6593c5914c  2025-10-09T04:38   \n",
       "1  d44033ab-e35d-4fb5-98b8-b03ceadf7810  2025-10-14T08:10   \n",
       "2  918bca10-eabb-4cf7-9cba-6f1890d1929f  2025-10-02T05:50   \n",
       "3  4562ae6e-cdad-4a66-bcb6-9a2d4bfc9f7b  2025-10-03T12:50   \n",
       "4  3a4d9586-7eb4-47d5-b230-03863570d590  2025-10-06T18:02   \n",
       "\n",
       "                    title                                  tags  \\\n",
       "0                회의 일정 조정                   event_planning-arts   \n",
       "1  Holiday Party Planning  health-social_services-communication   \n",
       "2  Bug Reproduction Steps                   operations-staffing   \n",
       "3  Coverage Schedule Swap                   operations-staffing   \n",
       "4       DAU Weekly Report                         hr-people_ops   \n",
       "\n",
       "                                     encoded_content  \n",
       "0  eyJ0dXJucyI6IFt7InJvbGUiOiAidXNlciIsICJ0ZXh0Ij...  \n",
       "1  eyJ0dXJucyI6IFt7InJvbGUiOiAidXNlciIsICJ0ZXh0Ij...  \n",
       "2  eyJ0dXJucyI6IFt7InJvbGUiOiAidXNlciIsICJ0ZXh0Ij...  \n",
       "3  eyJ0dXJucyI6IFt7InJvbGUiOiAidXNlciIsICJ0ZXh0Ij...  \n",
       "4  eyJ0dXJucyI6IFt7InJvbGUiOiAidXNlciIsICJ0ZXh0Ij...  "
      ]
     },
     "execution_count": 5,
     "metadata": {},
     "output_type": "execute_result"
    }
   ],
   "source": [
    "# Load data\n",
    "df = pd.read_csv(\"sample_data.csv\") # Change to your data path here\n",
    "df.head()"
   ]
  },
  {
   "cell_type": "code",
   "execution_count": 7,
   "id": "7e7c14f5",
   "metadata": {},
   "outputs": [
    {
     "data": {
      "text/html": [
       "<div>\n",
       "<style scoped>\n",
       "    .dataframe tbody tr th:only-of-type {\n",
       "        vertical-align: middle;\n",
       "    }\n",
       "\n",
       "    .dataframe tbody tr th {\n",
       "        vertical-align: top;\n",
       "    }\n",
       "\n",
       "    .dataframe thead th {\n",
       "        text-align: right;\n",
       "    }\n",
       "</style>\n",
       "<table border=\"1\" class=\"dataframe\">\n",
       "  <thead>\n",
       "    <tr style=\"text-align: right;\">\n",
       "      <th></th>\n",
       "      <th>turns</th>\n",
       "    </tr>\n",
       "  </thead>\n",
       "  <tbody>\n",
       "    <tr>\n",
       "      <th>0</th>\n",
       "      <td>[{'role': 'user', 'text': 'Can you help draft ...</td>\n",
       "    </tr>\n",
       "    <tr>\n",
       "      <th>1</th>\n",
       "      <td>[{'role': 'user', 'text': 'Can you help draft ...</td>\n",
       "    </tr>\n",
       "    <tr>\n",
       "      <th>2</th>\n",
       "      <td>[{'role': 'user', 'text': 'Please outline a 3-...</td>\n",
       "    </tr>\n",
       "  </tbody>\n",
       "</table>\n",
       "</div>"
      ],
      "text/plain": [
       "                                               turns\n",
       "0  [{'role': 'user', 'text': 'Can you help draft ...\n",
       "1  [{'role': 'user', 'text': 'Can you help draft ...\n",
       "2  [{'role': 'user', 'text': 'Please outline a 3-..."
      ]
     },
     "execution_count": 7,
     "metadata": {},
     "output_type": "execute_result"
    }
   ],
   "source": [
    "# Decode to structured turns\n",
    "df[\"turns\"] = df[\"encoded_content\"].apply(decode_row_to_turns)\n",
    "df[[\"turns\"]].head(3)"
   ]
  },
  {
   "cell_type": "code",
   "execution_count": 9,
   "id": "8e6338a4",
   "metadata": {},
   "outputs": [
    {
     "data": {
      "text/html": [
       "<div>\n",
       "<style scoped>\n",
       "    .dataframe tbody tr th:only-of-type {\n",
       "        vertical-align: middle;\n",
       "    }\n",
       "\n",
       "    .dataframe tbody tr th {\n",
       "        vertical-align: top;\n",
       "    }\n",
       "\n",
       "    .dataframe thead th {\n",
       "        text-align: right;\n",
       "    }\n",
       "</style>\n",
       "<table border=\"1\" class=\"dataframe\">\n",
       "  <thead>\n",
       "    <tr style=\"text-align: right;\">\n",
       "      <th></th>\n",
       "      <th>conversation_xml</th>\n",
       "    </tr>\n",
       "  </thead>\n",
       "  <tbody>\n",
       "    <tr>\n",
       "      <th>0</th>\n",
       "      <td>&lt;conversation id=\"bf7a26d1-c317-4d9b-a709-6e65...</td>\n",
       "    </tr>\n",
       "    <tr>\n",
       "      <th>1</th>\n",
       "      <td>&lt;conversation id=\"d44033ab-e35d-4fb5-98b8-b03c...</td>\n",
       "    </tr>\n",
       "    <tr>\n",
       "      <th>2</th>\n",
       "      <td>&lt;conversation id=\"918bca10-eabb-4cf7-9cba-6f18...</td>\n",
       "    </tr>\n",
       "  </tbody>\n",
       "</table>\n",
       "</div>"
      ],
      "text/plain": [
       "                                    conversation_xml\n",
       "0  <conversation id=\"bf7a26d1-c317-4d9b-a709-6e65...\n",
       "1  <conversation id=\"d44033ab-e35d-4fb5-98b8-b03c...\n",
       "2  <conversation id=\"918bca10-eabb-4cf7-9cba-6f18..."
      ]
     },
     "execution_count": 9,
     "metadata": {},
     "output_type": "execute_result"
    }
   ],
   "source": [
    "# Convert each conversation to XML\n",
    "df[\"conversation_xml\"] = df.apply(\n",
    "    lambda r: xml_transform(\n",
    "        chat_id=r[\"id\"],\n",
    "        timestamp=r[\"created_dttm\"],\n",
    "        title=r.get(\"tags\", \"\"),\n",
    "        turns=r.get(\"turns\", []),\n",
    "    ),\n",
    "    axis=1\n",
    ")\n",
    "\n",
    "df[[\"conversation_xml\"]].head(3)"
   ]
  },
  {
   "cell_type": "code",
   "execution_count": null,
   "id": "2426d0e2",
   "metadata": {},
   "outputs": [],
   "source": [
    "# Save to CSV\n",
    "df_out = df[[\"id\", \"conversation_xml\"]].copy() # Change \"chat_id\" to your column name here\n",
    "df_out.to_csv(\"data/chats_xml.csv\", index=False)"
   ]
  },
  {
   "cell_type": "markdown",
   "id": "b9cf1554",
   "metadata": {},
   "source": [
    "---\n",
    "### 2. Extract facets\n",
    "\n",
    "- Used Claude 3.5 Haiku here (as in paper) - should be switched to in-house LLM\n",
    "- This step takes the most time\n",
    "- Only using 100 chats since local processing is too slow, update with full data when having access to HPC\n",
    "- De-identifying happens at this step\n",
    "- [TODO] \"language\" facet needs some future debugging, if useful"
   ]
  },
  {
   "cell_type": "code",
   "execution_count": 4,
   "id": "69feeb31",
   "metadata": {},
   "outputs": [
    {
     "name": "stdout",
     "output_type": "stream",
     "text": [
      "True\n"
     ]
    }
   ],
   "source": [
    "# Check if API Key is set (using Anthropic for this demo with my own API key)\n",
    "print(os.getenv(\"ANTHROPIC_API_KEY\") is not None)\n",
    "client = ClaudeClient()"
   ]
  },
  {
   "cell_type": "code",
   "execution_count": null,
   "id": "b041d410",
   "metadata": {},
   "outputs": [
    {
     "data": {
      "text/html": [
       "<div>\n",
       "<style scoped>\n",
       "    .dataframe tbody tr th:only-of-type {\n",
       "        vertical-align: middle;\n",
       "    }\n",
       "\n",
       "    .dataframe tbody tr th {\n",
       "        vertical-align: top;\n",
       "    }\n",
       "\n",
       "    .dataframe thead th {\n",
       "        text-align: right;\n",
       "    }\n",
       "</style>\n",
       "<table border=\"1\" class=\"dataframe\">\n",
       "  <thead>\n",
       "    <tr style=\"text-align: right;\">\n",
       "      <th></th>\n",
       "      <th>id</th>\n",
       "      <th>conversation_xml</th>\n",
       "    </tr>\n",
       "  </thead>\n",
       "  <tbody>\n",
       "    <tr>\n",
       "      <th>0</th>\n",
       "      <td>bf7a26d1-c317-4d9b-a709-6e6593c5914c</td>\n",
       "      <td>&lt;conversation id=\"bf7a26d1-c317-4d9b-a709-6e65...</td>\n",
       "    </tr>\n",
       "    <tr>\n",
       "      <th>1</th>\n",
       "      <td>d44033ab-e35d-4fb5-98b8-b03ceadf7810</td>\n",
       "      <td>&lt;conversation id=\"d44033ab-e35d-4fb5-98b8-b03c...</td>\n",
       "    </tr>\n",
       "    <tr>\n",
       "      <th>2</th>\n",
       "      <td>918bca10-eabb-4cf7-9cba-6f1890d1929f</td>\n",
       "      <td>&lt;conversation id=\"918bca10-eabb-4cf7-9cba-6f18...</td>\n",
       "    </tr>\n",
       "  </tbody>\n",
       "</table>\n",
       "</div>"
      ],
      "text/plain": [
       "                                     id  \\\n",
       "0  bf7a26d1-c317-4d9b-a709-6e6593c5914c   \n",
       "1  d44033ab-e35d-4fb5-98b8-b03ceadf7810   \n",
       "2  918bca10-eabb-4cf7-9cba-6f1890d1929f   \n",
       "\n",
       "                                    conversation_xml  \n",
       "0  <conversation id=\"bf7a26d1-c317-4d9b-a709-6e65...  \n",
       "1  <conversation id=\"d44033ab-e35d-4fb5-98b8-b03c...  \n",
       "2  <conversation id=\"918bca10-eabb-4cf7-9cba-6f18...  "
      ]
     },
     "execution_count": 36,
     "metadata": {},
     "output_type": "execute_result"
    }
   ],
   "source": [
    "# Load xml data we prepared\n",
    "df_xml = pd.read_csv(\"data/chats_xml.csv\")  \n",
    "df_xml.head(3)"
   ]
  },
  {
   "cell_type": "code",
   "execution_count": 46,
   "id": "10ffd6b9-0fb4-4648-80bf-15488f2adb11",
   "metadata": {},
   "outputs": [],
   "source": [
    "# Using a smaller subset here because it's taking too long for me locally\n",
    "df_xml_small = df_xml.head(100)"
   ]
  },
  {
   "cell_type": "code",
   "execution_count": 48,
   "id": "f47f3fc0",
   "metadata": {},
   "outputs": [
    {
     "data": {
      "text/html": [
       "<div>\n",
       "<style scoped>\n",
       "    .dataframe tbody tr th:only-of-type {\n",
       "        vertical-align: middle;\n",
       "    }\n",
       "\n",
       "    .dataframe tbody tr th {\n",
       "        vertical-align: top;\n",
       "    }\n",
       "\n",
       "    .dataframe thead th {\n",
       "        text-align: right;\n",
       "    }\n",
       "</style>\n",
       "<table border=\"1\" class=\"dataframe\">\n",
       "  <thead>\n",
       "    <tr style=\"text-align: right;\">\n",
       "      <th></th>\n",
       "      <th>id</th>\n",
       "      <th>request</th>\n",
       "      <th>language</th>\n",
       "      <th>task</th>\n",
       "      <th>concerning</th>\n",
       "    </tr>\n",
       "  </thead>\n",
       "  <tbody>\n",
       "    <tr>\n",
       "      <th>0</th>\n",
       "      <td>bf7a26d1-c317-4d9b-a709-6e6593c5914c</td>\n",
       "      <td>The user's overall request for the assistant i...</td>\n",
       "      <td></td>\n",
       "      <td>The task is to draft a concise summary and act...</td>\n",
       "      <td>2</td>\n",
       "    </tr>\n",
       "    <tr>\n",
       "      <th>1</th>\n",
       "      <td>d44033ab-e35d-4fb5-98b8-b03ceadf7810</td>\n",
       "      <td>The user's overall request for the assistant i...</td>\n",
       "      <td></td>\n",
       "      <td>The task is to draft a concise summary and act...</td>\n",
       "      <td>2</td>\n",
       "    </tr>\n",
       "    <tr>\n",
       "      <th>2</th>\n",
       "      <td>918bca10-eabb-4cf7-9cba-6f1890d1929f</td>\n",
       "      <td>The user's overall request for the assistant i...</td>\n",
       "      <td></td>\n",
       "      <td>The task is to outline a 3-day itinerary with ...</td>\n",
       "      <td>2</td>\n",
       "    </tr>\n",
       "    <tr>\n",
       "      <th>3</th>\n",
       "      <td>4562ae6e-cdad-4a66-bcb6-9a2d4bfc9f7b</td>\n",
       "      <td>The user's overall request for the assistant i...</td>\n",
       "      <td></td>\n",
       "      <td>The task is to brainstorm ways to visualize qu...</td>\n",
       "      <td>2</td>\n",
       "    </tr>\n",
       "    <tr>\n",
       "      <th>4</th>\n",
       "      <td>3a4d9586-7eb4-47d5-b230-03863570d590</td>\n",
       "      <td>The user's overall request for the assistant i...</td>\n",
       "      <td></td>\n",
       "      <td>The task is to draft a concise summary and act...</td>\n",
       "      <td>2</td>\n",
       "    </tr>\n",
       "  </tbody>\n",
       "</table>\n",
       "</div>"
      ],
      "text/plain": [
       "                                     id  \\\n",
       "0  bf7a26d1-c317-4d9b-a709-6e6593c5914c   \n",
       "1  d44033ab-e35d-4fb5-98b8-b03ceadf7810   \n",
       "2  918bca10-eabb-4cf7-9cba-6f1890d1929f   \n",
       "3  4562ae6e-cdad-4a66-bcb6-9a2d4bfc9f7b   \n",
       "4  3a4d9586-7eb4-47d5-b230-03863570d590   \n",
       "\n",
       "                                             request language  \\\n",
       "0  The user's overall request for the assistant i...            \n",
       "1  The user's overall request for the assistant i...            \n",
       "2  The user's overall request for the assistant i...            \n",
       "3  The user's overall request for the assistant i...            \n",
       "4  The user's overall request for the assistant i...            \n",
       "\n",
       "                                                task concerning  \n",
       "0  The task is to draft a concise summary and act...          2  \n",
       "1  The task is to draft a concise summary and act...          2  \n",
       "2  The task is to outline a 3-day itinerary with ...          2  \n",
       "3  The task is to brainstorm ways to visualize qu...          2  \n",
       "4  The task is to draft a concise summary and act...          2  "
      ]
     },
     "execution_count": 48,
     "metadata": {},
     "output_type": "execute_result"
    }
   ],
   "source": [
    "# Extract facets (~ min for 1000 sample data rows)\n",
    "facets_df = run_facets_on_dataframe(df_xml_small, client=client) # replace \"df_xml_small\" with \"df_xml\" when having HPC\n",
    "facets_df.head()"
   ]
  },
  {
   "cell_type": "code",
   "execution_count": null,
   "id": "4c8480e7-e31a-49e6-a9e4-2b03311ef2ee",
   "metadata": {},
   "outputs": [],
   "source": [
    "facets_df.to_csv(\"data/facets.csv\", index=False)"
   ]
  },
  {
   "cell_type": "markdown",
   "id": "6fbdc66f-5309-4464-a4fa-cdb09cc1355b",
   "metadata": {},
   "source": [
    "----\n",
    "### 3. Embedding + Clustering + Naming\n",
    "\n",
    "- using \"all-mpnet-base-v2\" for embedding as is in the paper\n",
    "- Choosing k for clustering is tricky and details are not known from paper, see my implementation in \"clustering.py\"\n",
    "- [TODO] whether summary and name are both needed, it seems a bit redundant"
   ]
  },
  {
   "cell_type": "code",
   "execution_count": 34,
   "id": "4429a673-c50e-4fa4-9463-6675a463dbfc",
   "metadata": {},
   "outputs": [
    {
     "name": "stdout",
     "output_type": "stream",
     "text": [
      "Model loaded.\n"
     ]
    }
   ],
   "source": [
    "# Check if all-mpnet-base-v2 is loaded\n",
    "from sentence_transformers import SentenceTransformer\n",
    "model = SentenceTransformer(\"all-mpnet-base-v2\")\n",
    "print(\"Model loaded.\")"
   ]
  },
  {
   "cell_type": "code",
   "execution_count": null,
   "id": "2891518e-6b66-473c-b5f0-fc2719b63de0",
   "metadata": {},
   "outputs": [
    {
     "name": "stdout",
     "output_type": "stream",
     "text": [
      "Chosen k: 3\n"
     ]
    }
   ],
   "source": [
    "# Embed request facet\n",
    "facets = pd.read_csv(\"data/facets.csv\")\n",
    "df_req, X = embed_facets(facets, text_column=\"request\")\n",
    "np.save(\"embeddings.npy\", X)\n",
    "\n",
    "# Clustering\n",
    "labels, k = run_kmeans(X)\n",
    "print(\"Chosen k:\", k)"
   ]
  },
  {
   "cell_type": "code",
   "execution_count": 36,
   "id": "48397417-1cdc-49cb-bdeb-52eee4420b78",
   "metadata": {},
   "outputs": [
    {
     "data": {
      "text/html": [
       "<div>\n",
       "<style scoped>\n",
       "    .dataframe tbody tr th:only-of-type {\n",
       "        vertical-align: middle;\n",
       "    }\n",
       "\n",
       "    .dataframe tbody tr th {\n",
       "        vertical-align: top;\n",
       "    }\n",
       "\n",
       "    .dataframe thead th {\n",
       "        text-align: right;\n",
       "    }\n",
       "</style>\n",
       "<table border=\"1\" class=\"dataframe\">\n",
       "  <thead>\n",
       "    <tr style=\"text-align: right;\">\n",
       "      <th></th>\n",
       "      <th>id</th>\n",
       "      <th>request</th>\n",
       "      <th>language</th>\n",
       "      <th>task</th>\n",
       "      <th>concerning</th>\n",
       "      <th>cluster_id</th>\n",
       "    </tr>\n",
       "  </thead>\n",
       "  <tbody>\n",
       "    <tr>\n",
       "      <th>0</th>\n",
       "      <td>bf7a26d1-c317-4d9b-a709-6e6593c5914c</td>\n",
       "      <td>The user's overall request for the assistant i...</td>\n",
       "      <td>NaN</td>\n",
       "      <td>The task is to draft a concise summary and act...</td>\n",
       "      <td>2.0</td>\n",
       "      <td>1</td>\n",
       "    </tr>\n",
       "    <tr>\n",
       "      <th>1</th>\n",
       "      <td>d44033ab-e35d-4fb5-98b8-b03ceadf7810</td>\n",
       "      <td>The user's overall request for the assistant i...</td>\n",
       "      <td>NaN</td>\n",
       "      <td>The task is to draft a concise summary and act...</td>\n",
       "      <td>2.0</td>\n",
       "      <td>1</td>\n",
       "    </tr>\n",
       "    <tr>\n",
       "      <th>2</th>\n",
       "      <td>918bca10-eabb-4cf7-9cba-6f1890d1929f</td>\n",
       "      <td>The user's overall request for the assistant i...</td>\n",
       "      <td>NaN</td>\n",
       "      <td>The task is to outline a 3-day itinerary with ...</td>\n",
       "      <td>2.0</td>\n",
       "      <td>2</td>\n",
       "    </tr>\n",
       "    <tr>\n",
       "      <th>3</th>\n",
       "      <td>4562ae6e-cdad-4a66-bcb6-9a2d4bfc9f7b</td>\n",
       "      <td>The user's overall request for the assistant i...</td>\n",
       "      <td>NaN</td>\n",
       "      <td>The task is to brainstorm ways to visualize qu...</td>\n",
       "      <td>2.0</td>\n",
       "      <td>1</td>\n",
       "    </tr>\n",
       "    <tr>\n",
       "      <th>4</th>\n",
       "      <td>3a4d9586-7eb4-47d5-b230-03863570d590</td>\n",
       "      <td>The user's overall request for the assistant i...</td>\n",
       "      <td>NaN</td>\n",
       "      <td>The task is to draft a concise summary and act...</td>\n",
       "      <td>2.0</td>\n",
       "      <td>1</td>\n",
       "    </tr>\n",
       "  </tbody>\n",
       "</table>\n",
       "</div>"
      ],
      "text/plain": [
       "                                     id  \\\n",
       "0  bf7a26d1-c317-4d9b-a709-6e6593c5914c   \n",
       "1  d44033ab-e35d-4fb5-98b8-b03ceadf7810   \n",
       "2  918bca10-eabb-4cf7-9cba-6f1890d1929f   \n",
       "3  4562ae6e-cdad-4a66-bcb6-9a2d4bfc9f7b   \n",
       "4  3a4d9586-7eb4-47d5-b230-03863570d590   \n",
       "\n",
       "                                             request  language  \\\n",
       "0  The user's overall request for the assistant i...       NaN   \n",
       "1  The user's overall request for the assistant i...       NaN   \n",
       "2  The user's overall request for the assistant i...       NaN   \n",
       "3  The user's overall request for the assistant i...       NaN   \n",
       "4  The user's overall request for the assistant i...       NaN   \n",
       "\n",
       "                                                task  concerning  cluster_id  \n",
       "0  The task is to draft a concise summary and act...         2.0           1  \n",
       "1  The task is to draft a concise summary and act...         2.0           1  \n",
       "2  The task is to outline a 3-day itinerary with ...         2.0           2  \n",
       "3  The task is to brainstorm ways to visualize qu...         2.0           1  \n",
       "4  The task is to draft a concise summary and act...         2.0           1  "
      ]
     },
     "execution_count": 36,
     "metadata": {},
     "output_type": "execute_result"
    }
   ],
   "source": [
    "# Assign cluster IDs\n",
    "clustered_df = assign_clusters(df_req, labels)\n",
    "clustered_df.head()"
   ]
  },
  {
   "cell_type": "code",
   "execution_count": 12,
   "id": "fbfa8569-e8ef-4298-9220-757918c6c17c",
   "metadata": {},
   "outputs": [
    {
     "data": {
      "text/html": [
       "<div>\n",
       "<style scoped>\n",
       "    .dataframe tbody tr th:only-of-type {\n",
       "        vertical-align: middle;\n",
       "    }\n",
       "\n",
       "    .dataframe tbody tr th {\n",
       "        vertical-align: top;\n",
       "    }\n",
       "\n",
       "    .dataframe thead th {\n",
       "        text-align: right;\n",
       "    }\n",
       "</style>\n",
       "<table border=\"1\" class=\"dataframe\">\n",
       "  <thead>\n",
       "    <tr style=\"text-align: right;\">\n",
       "      <th></th>\n",
       "      <th>cluster_id</th>\n",
       "      <th>count</th>\n",
       "    </tr>\n",
       "  </thead>\n",
       "  <tbody>\n",
       "    <tr>\n",
       "      <th>1</th>\n",
       "      <td>1</td>\n",
       "      <td>44</td>\n",
       "    </tr>\n",
       "    <tr>\n",
       "      <th>0</th>\n",
       "      <td>0</td>\n",
       "      <td>31</td>\n",
       "    </tr>\n",
       "    <tr>\n",
       "      <th>2</th>\n",
       "      <td>2</td>\n",
       "      <td>25</td>\n",
       "    </tr>\n",
       "  </tbody>\n",
       "</table>\n",
       "</div>"
      ],
      "text/plain": [
       "   cluster_id  count\n",
       "1           1     44\n",
       "0           0     31\n",
       "2           2     25"
      ]
     },
     "execution_count": 12,
     "metadata": {},
     "output_type": "execute_result"
    }
   ],
   "source": [
    "# Summary\n",
    "summary_df = summarize_clusters(clustered_df)\n",
    "summary_df"
   ]
  },
  {
   "cell_type": "code",
   "execution_count": null,
   "id": "1c506314-c865-4c2a-8bd5-9c96208bc8ea",
   "metadata": {},
   "outputs": [
    {
     "data": {
      "text/html": [
       "<div>\n",
       "<style scoped>\n",
       "    .dataframe tbody tr th:only-of-type {\n",
       "        vertical-align: middle;\n",
       "    }\n",
       "\n",
       "    .dataframe tbody tr th {\n",
       "        vertical-align: top;\n",
       "    }\n",
       "\n",
       "    .dataframe thead th {\n",
       "        text-align: right;\n",
       "    }\n",
       "</style>\n",
       "<table border=\"1\" class=\"dataframe\">\n",
       "  <thead>\n",
       "    <tr style=\"text-align: right;\">\n",
       "      <th></th>\n",
       "      <th>cluster_id</th>\n",
       "      <th>summary</th>\n",
       "      <th>name</th>\n",
       "    </tr>\n",
       "  </thead>\n",
       "  <tbody>\n",
       "    <tr>\n",
       "      <th>0</th>\n",
       "      <td>0</td>\n",
       "      <td>Participants requested or discussed topics mat...</td>\n",
       "      <td>Summarize Assistant User's Overall Request</td>\n",
       "    </tr>\n",
       "    <tr>\n",
       "      <th>1</th>\n",
       "      <td>1</td>\n",
       "      <td>Participants requested or discussed topics mat...</td>\n",
       "      <td>Summarize User's Overall Request Assistant</td>\n",
       "    </tr>\n",
       "    <tr>\n",
       "      <th>2</th>\n",
       "      <td>2</td>\n",
       "      <td>Participants requested or discussed topics mat...</td>\n",
       "      <td>Summarize Assistant Request User's Overall</td>\n",
       "    </tr>\n",
       "  </tbody>\n",
       "</table>\n",
       "</div>"
      ],
      "text/plain": [
       "   cluster_id                                            summary  \\\n",
       "0           0  Participants requested or discussed topics mat...   \n",
       "1           1  Participants requested or discussed topics mat...   \n",
       "2           2  Participants requested or discussed topics mat...   \n",
       "\n",
       "                                         name  \n",
       "0  Summarize Assistant User's Overall Request  \n",
       "1  Summarize User's Overall Request Assistant  \n",
       "2  Summarize Assistant Request User's Overall  "
      ]
     },
     "execution_count": 44,
     "metadata": {},
     "output_type": "execute_result"
    }
   ],
   "source": [
    "# Preparing parameters for naming clusters\n",
    "params = NamingParams(\n",
    "    text_col=\"request\",  \n",
    "    cluster_col=\"cluster_id\",\n",
    "    in_cluster_n=50,\n",
    "    out_cluster_n=50,\n",
    "    random_state=123,\n",
    "    save_dir=\"artifacts/naming\",\n",
    ")\n",
    "\n",
    "# Model used for naming\n",
    "# Since it's already de-identified, can keep using claude\n",
    "client = ClaudeClient(model=\"claude-3-5-sonnet-20240620\") \n",
    "\n",
    "# Naming clusters\n",
    "names_df = name_all_clusters(\n",
    "    df=clustered_df,\n",
    "    embeddings=X,\n",
    "    complete_fn=client.complete, \n",
    "    params=params\n",
    ")\n",
    "\n",
    "names_df.to_csv(\"data/cluster_names.csv\", index=False)\n",
    "names_df.head()"
   ]
  },
  {
   "cell_type": "code",
   "execution_count": null,
   "id": "434dd809-3b39-4920-93b2-153d77628e88",
   "metadata": {},
   "outputs": [
    {
     "data": {
      "text/html": [
       "<div>\n",
       "<style scoped>\n",
       "    .dataframe tbody tr th:only-of-type {\n",
       "        vertical-align: middle;\n",
       "    }\n",
       "\n",
       "    .dataframe tbody tr th {\n",
       "        vertical-align: top;\n",
       "    }\n",
       "\n",
       "    .dataframe thead th {\n",
       "        text-align: right;\n",
       "    }\n",
       "</style>\n",
       "<table border=\"1\" class=\"dataframe\">\n",
       "  <thead>\n",
       "    <tr style=\"text-align: right;\">\n",
       "      <th></th>\n",
       "      <th>id</th>\n",
       "      <th>request</th>\n",
       "      <th>language</th>\n",
       "      <th>task</th>\n",
       "      <th>concerning</th>\n",
       "      <th>cluster_id</th>\n",
       "      <th>summary</th>\n",
       "      <th>name</th>\n",
       "    </tr>\n",
       "  </thead>\n",
       "  <tbody>\n",
       "    <tr>\n",
       "      <th>0</th>\n",
       "      <td>bf7a26d1-c317-4d9b-a709-6e6593c5914c</td>\n",
       "      <td>The user's overall request for the assistant i...</td>\n",
       "      <td>NaN</td>\n",
       "      <td>The task is to draft a concise summary and act...</td>\n",
       "      <td>2.0</td>\n",
       "      <td>1</td>\n",
       "      <td>Participants requested or discussed topics mat...</td>\n",
       "      <td>Summarize User's Overall Request Assistant</td>\n",
       "    </tr>\n",
       "    <tr>\n",
       "      <th>1</th>\n",
       "      <td>d44033ab-e35d-4fb5-98b8-b03ceadf7810</td>\n",
       "      <td>The user's overall request for the assistant i...</td>\n",
       "      <td>NaN</td>\n",
       "      <td>The task is to draft a concise summary and act...</td>\n",
       "      <td>2.0</td>\n",
       "      <td>1</td>\n",
       "      <td>Participants requested or discussed topics mat...</td>\n",
       "      <td>Summarize User's Overall Request Assistant</td>\n",
       "    </tr>\n",
       "    <tr>\n",
       "      <th>2</th>\n",
       "      <td>918bca10-eabb-4cf7-9cba-6f1890d1929f</td>\n",
       "      <td>The user's overall request for the assistant i...</td>\n",
       "      <td>NaN</td>\n",
       "      <td>The task is to outline a 3-day itinerary with ...</td>\n",
       "      <td>2.0</td>\n",
       "      <td>2</td>\n",
       "      <td>Participants requested or discussed topics mat...</td>\n",
       "      <td>Summarize Assistant Request User's Overall</td>\n",
       "    </tr>\n",
       "    <tr>\n",
       "      <th>3</th>\n",
       "      <td>4562ae6e-cdad-4a66-bcb6-9a2d4bfc9f7b</td>\n",
       "      <td>The user's overall request for the assistant i...</td>\n",
       "      <td>NaN</td>\n",
       "      <td>The task is to brainstorm ways to visualize qu...</td>\n",
       "      <td>2.0</td>\n",
       "      <td>1</td>\n",
       "      <td>Participants requested or discussed topics mat...</td>\n",
       "      <td>Summarize User's Overall Request Assistant</td>\n",
       "    </tr>\n",
       "    <tr>\n",
       "      <th>4</th>\n",
       "      <td>3a4d9586-7eb4-47d5-b230-03863570d590</td>\n",
       "      <td>The user's overall request for the assistant i...</td>\n",
       "      <td>NaN</td>\n",
       "      <td>The task is to draft a concise summary and act...</td>\n",
       "      <td>2.0</td>\n",
       "      <td>1</td>\n",
       "      <td>Participants requested or discussed topics mat...</td>\n",
       "      <td>Summarize User's Overall Request Assistant</td>\n",
       "    </tr>\n",
       "  </tbody>\n",
       "</table>\n",
       "</div>"
      ],
      "text/plain": [
       "                                     id  \\\n",
       "0  bf7a26d1-c317-4d9b-a709-6e6593c5914c   \n",
       "1  d44033ab-e35d-4fb5-98b8-b03ceadf7810   \n",
       "2  918bca10-eabb-4cf7-9cba-6f1890d1929f   \n",
       "3  4562ae6e-cdad-4a66-bcb6-9a2d4bfc9f7b   \n",
       "4  3a4d9586-7eb4-47d5-b230-03863570d590   \n",
       "\n",
       "                                             request  language  \\\n",
       "0  The user's overall request for the assistant i...       NaN   \n",
       "1  The user's overall request for the assistant i...       NaN   \n",
       "2  The user's overall request for the assistant i...       NaN   \n",
       "3  The user's overall request for the assistant i...       NaN   \n",
       "4  The user's overall request for the assistant i...       NaN   \n",
       "\n",
       "                                                task  concerning  cluster_id  \\\n",
       "0  The task is to draft a concise summary and act...         2.0           1   \n",
       "1  The task is to draft a concise summary and act...         2.0           1   \n",
       "2  The task is to outline a 3-day itinerary with ...         2.0           2   \n",
       "3  The task is to brainstorm ways to visualize qu...         2.0           1   \n",
       "4  The task is to draft a concise summary and act...         2.0           1   \n",
       "\n",
       "                                             summary  \\\n",
       "0  Participants requested or discussed topics mat...   \n",
       "1  Participants requested or discussed topics mat...   \n",
       "2  Participants requested or discussed topics mat...   \n",
       "3  Participants requested or discussed topics mat...   \n",
       "4  Participants requested or discussed topics mat...   \n",
       "\n",
       "                                         name  \n",
       "0  Summarize User's Overall Request Assistant  \n",
       "1  Summarize User's Overall Request Assistant  \n",
       "2  Summarize Assistant Request User's Overall  \n",
       "3  Summarize User's Overall Request Assistant  \n",
       "4  Summarize User's Overall Request Assistant  "
      ]
     },
     "execution_count": 50,
     "metadata": {},
     "output_type": "execute_result"
    }
   ],
   "source": [
    "# Merge and save data\n",
    "\n",
    "clustered_named = clustered_df.merge(names_df, on=\"cluster_id\", how=\"left\")\n",
    "clustered_named.to_csv(\"data/clustered_named.csv\", index=False)\n",
    "clustered_named.head()"
   ]
  },
  {
   "cell_type": "markdown",
   "id": "6f47d816-4f09-498e-9201-9dd3818925ca",
   "metadata": {},
   "source": [
    "---\n",
    "### 4. Projector for visualization\n",
    "\n",
    "- visually verify that clusters are well-separated\n",
    "- spot outliers or noisy points\n",
    "- get intuition about the semantic structure"
   ]
  },
  {
   "cell_type": "code",
   "execution_count": null,
   "id": "d168ecbf-fabb-4897-a083-0bdbcbfb40e6",
   "metadata": {},
   "outputs": [],
   "source": [
    "# Load data from previous step\n",
    "X = np.load(\"embeddings.npy\")\n",
    "clustered_named = pd.read_csv(\"data/clustered_named.csv\")"
   ]
  },
  {
   "cell_type": "code",
   "execution_count": 10,
   "id": "390aa076-1af1-4f66-8d2a-af467c248724",
   "metadata": {},
   "outputs": [
    {
     "name": "stderr",
     "output_type": "stream",
     "text": [
      "/opt/anaconda3/lib/python3.11/site-packages/umap/umap_.py:1952: UserWarning: n_jobs value 1 overridden to 1 by setting random_state. Use no seed for parallelism.\n",
      "  warn(\n"
     ]
    }
   ],
   "source": [
    "# Set up projector\n",
    "proj_params = ProjectorParams(n_neighbors=5, min_dist=0.1, random_state=123)\n",
    "clustered_proj = project_and_merge(clustered_named, X, proj_params)"
   ]
  },
  {
   "cell_type": "code",
   "execution_count": 12,
   "id": "f77de18a-b55c-48f5-9d3b-956b545d8e5e",
   "metadata": {},
   "outputs": [
    {
     "data": {
      "image/png": "[encoded data removed]",
      "text/plain": [
       "<Figure size 700x600 with 1 Axes>"
      ]
     },
     "metadata": {},
     "output_type": "display_data"
    }
   ],
   "source": [
    "# Projector visualization\n",
    "plot_projection(clustered_proj, cluster_col=\"cluster_id\")"
   ]
  },
  {
   "cell_type": "markdown",
   "id": "48393833-a05c-41c2-97fa-8fd1d0e14cec",
   "metadata": {},
   "source": [
    "---\n",
    "### 5. Hierarchizer\n",
    "- Building a tree-strcture for clusters, ranking and visualize them"
   ]
  },
  {
   "cell_type": "code",
   "execution_count": 26,
   "id": "17a2acd9-74f7-4cd5-b489-a47cfdcc19f8",
   "metadata": {},
   "outputs": [
    {
     "data": {
      "text/plain": [
       "{'meta': {'n_clusters': 3,\n",
       "  'n_parents': 1,\n",
       "  'params': {'text_col': 'request',\n",
       "   'cluster_col': 'cluster_id',\n",
       "   'n_parents': None,\n",
       "   'distance_threshold': None,\n",
       "   'linkage': 'average',\n",
       "   'random_state': 42,\n",
       "   'save_dir': 'artifacts/hierarchy'}},\n",
       " 'parents': [{'parent_id': 0,\n",
       "   'child_cluster_ids': [0, 1, 2],\n",
       "   'parent_summary': '',\n",
       "   'parent_name': ''}]}"
      ]
     },
     "execution_count": 26,
     "metadata": {},
     "output_type": "execute_result"
    }
   ],
   "source": [
    "hier_params = HierParams(\n",
    "    text_col=\"request\",\n",
    "    cluster_col=\"cluster_id\",\n",
    "    save_dir=\"artifacts/hierarchy\"\n",
    ")\n",
    "\n",
    "hierarchy = build_hierarchy(clustered_named, X, hier_params)\n",
    "hierarchy"
   ]
  },
  {
   "cell_type": "markdown",
   "id": "626f45f1-374c-4493-b095-1fd954024786",
   "metadata": {},
   "source": [
    "#### Cluster Hierarchy (Demo)\n",
    "\n",
    "**Parent 0**\n",
    "\n",
    "- **Cluster 0** — *<cluster 0 name here>*\n",
    "- **Cluster 1** — *<cluster 1 name here>*\n",
    "- **Cluster 2** — *<cluster 2 name here>*"
   ]
  },
  {
   "cell_type": "code",
   "execution_count": null,
   "id": "ef7737a9-fe29-45a9-a585-38625172421a",
   "metadata": {},
   "outputs": [],
   "source": []
  }
 ],
 "metadata": {
  "kernelspec": {
   "display_name": "base",
   "language": "python",
   "name": "python3"
  },
  "language_info": {
   "codemirror_mode": {
    "name": "ipython",
    "version": 3
   },
   "file_extension": ".py",
   "mimetype": "text/x-python",
   "name": "python",
   "nbconvert_exporter": "python",
   "pygments_lexer": "ipython3",
   "version": "3.11.9"
  }
 },
 "nbformat": 4,
 "nbformat_minor": 5
}
